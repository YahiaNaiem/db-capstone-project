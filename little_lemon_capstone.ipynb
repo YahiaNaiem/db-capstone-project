{
 "cells": [
  {
   "cell_type": "markdown",
   "id": "4f8e4be7",
   "metadata": {},
   "source": [
    "Task1"
   ]
  },
  {
   "cell_type": "code",
   "execution_count": 31,
   "id": "90ab98b8",
   "metadata": {},
   "outputs": [],
   "source": [
    "import mysql.connector as connector"
   ]
  },
  {
   "cell_type": "code",
   "execution_count": 32,
   "id": "8dc395c2",
   "metadata": {},
   "outputs": [],
   "source": [
    "connection = connector.connect(user = \"root\", password = \"yahianaim2002\", db = \"little_lemon_db\")"
   ]
  },
  {
   "cell_type": "markdown",
   "id": "3ed2bd0b",
   "metadata": {},
   "source": [
    "task2"
   ]
  },
  {
   "cell_type": "code",
   "execution_count": 33,
   "id": "7fde7df8",
   "metadata": {},
   "outputs": [],
   "source": [
    "cursor = connection.cursor()"
   ]
  },
  {
   "cell_type": "code",
   "execution_count": 34,
   "id": "6182545f",
   "metadata": {},
   "outputs": [],
   "source": [
    "show_tables_query = \"SHOW tables\" \n",
    "cursor.execute(show_tables_query)"
   ]
  },
  {
   "cell_type": "code",
   "execution_count": 35,
   "id": "f9c48a9c",
   "metadata": {},
   "outputs": [],
   "source": [
    "results = cursor.fetchall()"
   ]
  },
  {
   "cell_type": "code",
   "execution_count": 36,
   "id": "185cfab7",
   "metadata": {},
   "outputs": [
    {
     "name": "stdout",
     "output_type": "stream",
     "text": [
      "[('bookings',), ('customers',), ('employees',), ('menu_items',), ('menus',), ('orders',), ('ordersview',)]\n"
     ]
    }
   ],
   "source": [
    "print(results)"
   ]
  },
  {
   "cell_type": "markdown",
   "id": "b2d98245",
   "metadata": {},
   "source": [
    "task3"
   ]
  },
  {
   "cell_type": "code",
   "execution_count": 37,
   "id": "b0853b31",
   "metadata": {},
   "outputs": [],
   "source": [
    "customers = \"\"\" SELECT c.full_name, o.cost\n",
    "                FROM Customers c\n",
    "                Join Orders o on o.customer_id = o.customer_id\n",
    "                where o.cost > 60;\"\"\""
   ]
  },
  {
   "cell_type": "code",
   "execution_count": 38,
   "id": "1031d2c7",
   "metadata": {},
   "outputs": [],
   "source": [
    "cursor.execute(customers)"
   ]
  },
  {
   "cell_type": "code",
   "execution_count": 39,
   "id": "900a1c8b",
   "metadata": {},
   "outputs": [],
   "source": [
    "results = cursor.fetchall()"
   ]
  },
  {
   "cell_type": "code",
   "execution_count": 40,
   "id": "5b814094",
   "metadata": {},
   "outputs": [
    {
     "name": "stdout",
     "output_type": "stream",
     "text": [
      "[('Peter Smith', 70), ('Jane Doe', 70), ('John Doe', 70), ('Peter Smith', 80), ('Jane Doe', 80), ('John Doe', 80), ('Peter Smith', 90), ('Jane Doe', 90), ('John Doe', 90), ('Peter Smith', 100), ('Jane Doe', 100), ('John Doe', 100), ('Peter Smith', 90), ('Jane Doe', 90), ('John Doe', 90), ('Peter Smith', 80), ('Jane Doe', 80), ('John Doe', 80), ('Peter Smith', 70), ('Jane Doe', 70), ('John Doe', 70)]\n"
     ]
    }
   ],
   "source": [
    "print(results)"
   ]
  },
  {
   "cell_type": "code",
   "execution_count": null,
   "id": "c4d7aa94",
   "metadata": {},
   "outputs": [],
   "source": []
  }
 ],
 "metadata": {
  "kernelspec": {
   "display_name": "Python 3 (ipykernel)",
   "language": "python",
   "name": "python3"
  },
  "language_info": {
   "codemirror_mode": {
    "name": "ipython",
    "version": 3
   },
   "file_extension": ".py",
   "mimetype": "text/x-python",
   "name": "python",
   "nbconvert_exporter": "python",
   "pygments_lexer": "ipython3",
   "version": "3.9.13"
  }
 },
 "nbformat": 4,
 "nbformat_minor": 5
}
